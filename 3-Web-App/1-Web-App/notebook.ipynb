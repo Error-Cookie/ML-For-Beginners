{
 "cells": [
  {
   "cell_type": "markdown",
   "metadata": {},
   "source": [
    "### Cleaning Data"
   ]
  },
  {
   "cell_type": "code",
   "execution_count": 12,
   "metadata": {},
   "outputs": [],
   "source": [
    "import pandas as pd\n",
    "import numpy as np\n",
    "\n",
    "ufos = pd.read_csv(\"./data/ufos.csv\")\n",
    "ufos = pd.DataFrame({\"Seconds\": ufos[\"duration (seconds)\"], \"Country\": ufos[\"country\"], \"Latitude\": ufos[\"latitude\"], \"Longitude\": ufos[\"longitude\"]})\n",
    "ufos.Country.unique()\n",
    "ufos.dropna(inplace = True)\n",
    "ufos = ufos[(ufos[\"Seconds\"] >= 1) & (ufos[\"Seconds\"] <= 60)]\n",
    "\n",
    "from sklearn.preprocessing import LabelEncoder\n",
    "\n",
    "ufos[\"Country\"] = LabelEncoder().fit_transform(ufos[\"Country\"])\n"
   ]
  },
  {
   "cell_type": "markdown",
   "metadata": {},
   "source": [
    "### Building the model"
   ]
  },
  {
   "cell_type": "code",
   "execution_count": 13,
   "metadata": {},
   "outputs": [
    {
     "name": "stdout",
     "output_type": "stream",
     "text": [
      "              precision    recall  f1-score   support\n",
      "\n",
      "           0       1.00      1.00      1.00        41\n",
      "           1       0.82      0.22      0.35       250\n",
      "           2       1.00      0.88      0.93         8\n",
      "           3       0.99      1.00      1.00       131\n",
      "           4       0.96      1.00      0.98      4743\n",
      "\n",
      "    accuracy                           0.96      5173\n",
      "   macro avg       0.96      0.82      0.85      5173\n",
      "weighted avg       0.96      0.96      0.95      5173\n",
      "\n",
      "Prediction labels:  [4 4 4 ... 3 4 4]\n",
      "Accuracy:  0.9599845350860235\n"
     ]
    },
    {
     "name": "stderr",
     "output_type": "stream",
     "text": [
      "/home/error/Schreibtisch/ml/ML-For-Beginners/.venv/lib/python3.11/site-packages/sklearn/linear_model/_logistic.py:460: ConvergenceWarning: lbfgs failed to converge (status=1):\n",
      "STOP: TOTAL NO. of ITERATIONS REACHED LIMIT.\n",
      "\n",
      "Increase the number of iterations (max_iter) or scale the data as shown in:\n",
      "    https://scikit-learn.org/stable/modules/preprocessing.html\n",
      "Please also refer to the documentation for alternative solver options:\n",
      "    https://scikit-learn.org/stable/modules/linear_model.html#logistic-regression\n",
      "  n_iter_i = _check_optimize_result(\n"
     ]
    }
   ],
   "source": [
    "from sklearn.model_selection import train_test_split\n",
    "\n",
    "selected_features = [\"Seconds\", \"Latitude\", \"Longitude\"]\n",
    "\n",
    "X = ufos[selected_features]\n",
    "y = ufos[\"Country\"]\n",
    "\n",
    "X_train, X_test, y_train, y_test = train_test_split(X, y, test_size = 0.2, random_state = 0)\n",
    "\n",
    "from sklearn.metrics import accuracy_score, classification_report\n",
    "from sklearn.linear_model import LogisticRegression\n",
    "\n",
    "model = LogisticRegression()\n",
    "model.fit(X_train, y_train)\n",
    "\n",
    "predictions = model.predict(X_test)\n",
    "\n",
    "print(classification_report(y_test, predictions))\n",
    "print(\"Prediction labels: \", predictions)\n",
    "print(\"Accuracy: \", accuracy_score(y_test, predictions))"
   ]
  },
  {
   "cell_type": "markdown",
   "metadata": {},
   "source": [
    "### \"Pickle\" the model"
   ]
  },
  {
   "cell_type": "code",
   "execution_count": 17,
   "metadata": {},
   "outputs": [
    {
     "name": "stdout",
     "output_type": "stream",
     "text": [
      "[3]\n"
     ]
    },
    {
     "name": "stderr",
     "output_type": "stream",
     "text": [
      "/home/error/Schreibtisch/ml/ML-For-Beginners/.venv/lib/python3.11/site-packages/sklearn/base.py:465: UserWarning: X does not have valid feature names, but LogisticRegression was fitted with feature names\n",
      "  warnings.warn(\n"
     ]
    }
   ],
   "source": [
    "import pickle\n",
    "\n",
    "model_filename = \"ufo-model.pkl\"\n",
    "pickle.dump(model, open(model_filename, \"wb\"))\n",
    "\n",
    "model = pickle.load(open(model_filename, \"rb\"))\n",
    "print(model.predict([[20,40.2,-2.9]]))"
   ]
  }
 ],
 "metadata": {
  "kernelspec": {
   "display_name": ".venv",
   "language": "python",
   "name": "python3"
  },
  "language_info": {
   "codemirror_mode": {
    "name": "ipython",
    "version": 3
   },
   "file_extension": ".py",
   "mimetype": "text/x-python",
   "name": "python",
   "nbconvert_exporter": "python",
   "pygments_lexer": "ipython3",
   "version": "3.11.6"
  }
 },
 "nbformat": 4,
 "nbformat_minor": 2
}
